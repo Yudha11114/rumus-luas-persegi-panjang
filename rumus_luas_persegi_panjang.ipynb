{
  "nbformat": 4,
  "nbformat_minor": 0,
  "metadata": {
    "colab": {
      "provenance": [],
      "authorship_tag": "ABX9TyMj+6M4KCHD0SzOW1ZkRpnD",
      "include_colab_link": true
    },
    "kernelspec": {
      "name": "python3",
      "display_name": "Python 3"
    },
    "language_info": {
      "name": "python"
    }
  },
  "cells": [
    {
      "cell_type": "markdown",
      "metadata": {
        "id": "view-in-github",
        "colab_type": "text"
      },
      "source": [
        "<a href=\"https://colab.research.google.com/github/Yudha11114/rumus-luas-persegi-panjang/blob/main/rumus_luas_persegi_panjang.ipynb\" target=\"_parent\"><img src=\"https://colab.research.google.com/assets/colab-badge.svg\" alt=\"Open In Colab\"/></a>"
      ]
    },
    {
      "cell_type": "code",
      "execution_count": 4,
      "metadata": {
        "colab": {
          "base_uri": "https://localhost:8080/"
        },
        "id": "YhSTGEQhVZdP",
        "outputId": "d8cf9c1d-116f-4915-a826-9e1f5f71d168"
      },
      "outputs": [
        {
          "output_type": "stream",
          "name": "stdout",
          "text": [
            "luas persegi panjang adalah 1000 cm\n"
          ]
        }
      ],
      "source": [
        " panjang = 50\n",
        " lebar = 20\n",
        " luas = panjang*lebar\n",
        " print(\"luas persegi panjang adalah\",luas,\"cm\")"
      ]
    }
  ]
}