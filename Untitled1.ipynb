{
  "nbformat": 4,
  "nbformat_minor": 0,
  "metadata": {
    "colab": {
      "provenance": [],
      "authorship_tag": "ABX9TyPJM3qZS0bW3dEtz45Ftdix",
      "include_colab_link": true
    },
    "kernelspec": {
      "name": "python3",
      "display_name": "Python 3"
    },
    "language_info": {
      "name": "python"
    }
  },
  "cells": [
    {
      "cell_type": "markdown",
      "metadata": {
        "id": "view-in-github",
        "colab_type": "text"
      },
      "source": [
        "<a href=\"https://colab.research.google.com/github/Yudha11114/rumus-luas-persegi-panjang/blob/main/Untitled1.ipynb\" target=\"_parent\"><img src=\"https://colab.research.google.com/assets/colab-badge.svg\" alt=\"Open In Colab\"/></a>"
      ]
    },
    {
      "cell_type": "code",
      "execution_count": 1,
      "metadata": {
        "id": "px0QIKtbcJX4",
        "colab": {
          "base_uri": "https://localhost:8080/"
        },
        "outputId": "f228e110-9cc4-40d0-c818-96eb644d4758"
      },
      "outputs": [
        {
          "output_type": "stream",
          "name": "stdout",
          "text": [
            "[3, 7, 8, 10, 11, 22, 33, 54, 100]\n"
          ]
        }
      ],
      "source": [
        "nomor_acak=[10,8,3,22,33,7,11,100,54]\n",
        "nomor_acak.sort()\n",
        "print(nomor_acak)"
      ]
    }
  ]
}